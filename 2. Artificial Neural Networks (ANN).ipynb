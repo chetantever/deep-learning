{
 "cells": [
  {
   "cell_type": "markdown",
   "metadata": {
    "collapsed": true
   },
   "source": [
    "## Aritificial Neural Network "
   ]
  },
  {
   "cell_type": "markdown",
   "metadata": {},
   "source": [
    "### Data and Business Problem"
   ]
  },
  {
   "cell_type": "markdown",
   "metadata": {},
   "source": [
    "Our basic aim is to predict customer churn for a certain bank i.e. which customer is going to leave this bank service. Dataset is small(for learning purpose) and contains 10000 rows with 14 columns. "
   ]
  },
  {
   "cell_type": "code",
   "execution_count": 1,
   "metadata": {
    "collapsed": false
   },
   "outputs": [
    {
     "name": "stderr",
     "output_type": "stream",
     "text": [
      "/home/vagrant/anaconda/lib/python3.5/site-packages/matplotlib/font_manager.py:273: UserWarning: Matplotlib is building the font cache using fc-list. This may take a moment.\n",
      "  warnings.warn('Matplotlib is building the font cache using fc-list. This may take a moment.')\n",
      "/home/vagrant/anaconda/lib/python3.5/site-packages/matplotlib/font_manager.py:273: UserWarning: Matplotlib is building the font cache using fc-list. This may take a moment.\n",
      "  warnings.warn('Matplotlib is building the font cache using fc-list. This may take a moment.')\n"
     ]
    }
   ],
   "source": [
    "# Importing the libraries\n",
    "import numpy as np\n",
    "import matplotlib.pyplot as plt\n",
    "import pandas as pd"
   ]
  },
  {
   "cell_type": "code",
   "execution_count": 2,
   "metadata": {
    "collapsed": true
   },
   "outputs": [],
   "source": [
    "# Importing the dataset\n",
    "dataset = pd.read_csv('input_ann.csv')"
   ]
  },
  {
   "cell_type": "code",
   "execution_count": 3,
   "metadata": {
    "collapsed": true
   },
   "outputs": [],
   "source": [
    "# Create matrix of features and matrix of target variable\n",
    "X = dataset.iloc[:, 3:13].values\n",
    "y = dataset.iloc[:, 13].values"
   ]
  },
  {
   "cell_type": "code",
   "execution_count": 4,
   "metadata": {
    "collapsed": false
   },
   "outputs": [
    {
     "name": "stdout",
     "output_type": "stream",
     "text": [
      "(10000, 10) (10000,)\n"
     ]
    }
   ],
   "source": [
    "print(X.shape,y.shape)"
   ]
  },
  {
   "cell_type": "code",
   "execution_count": 5,
   "metadata": {
    "collapsed": true
   },
   "outputs": [],
   "source": [
    "# Encoding string variables\n",
    "from sklearn.preprocessing import LabelEncoder, OneHotEncoder\n",
    "\n",
    "labelencoder_X_1 = LabelEncoder()\n",
    "X[:, 1] = labelencoder_X_1.fit_transform(X[:, 1])\n",
    "\n",
    "labelencoder_X_2 = LabelEncoder()\n",
    "X[:, 2] = labelencoder_X_2.fit_transform(X[:, 2])"
   ]
  },
  {
   "cell_type": "code",
   "execution_count": 6,
   "metadata": {
    "collapsed": true
   },
   "outputs": [],
   "source": [
    "# Create dummy variable\n",
    "onehotencoder = OneHotEncoder(categorical_features = [1])\n",
    "X = onehotencoder.fit_transform(X).toarray()\n",
    "X = X[:, 1:]"
   ]
  },
  {
   "cell_type": "code",
   "execution_count": 7,
   "metadata": {
    "collapsed": true
   },
   "outputs": [],
   "source": [
    "# Splitting the dataset into the Training set and Test set\n",
    "from sklearn.model_selection import train_test_split\n",
    "X_train, X_test, y_train, y_test = train_test_split(X, y, test_size = 0.2)"
   ]
  },
  {
   "cell_type": "code",
   "execution_count": 8,
   "metadata": {
    "collapsed": true
   },
   "outputs": [],
   "source": [
    "# Feature Scaling\n",
    "from sklearn.preprocessing import StandardScaler\n",
    "sc = StandardScaler()\n",
    "X_train = sc.fit_transform(X_train)\n",
    "X_test = sc.transform(X_test)"
   ]
  },
  {
   "cell_type": "code",
   "execution_count": 9,
   "metadata": {
    "collapsed": false
   },
   "outputs": [
    {
     "name": "stderr",
     "output_type": "stream",
     "text": [
      "Using TensorFlow backend.\n"
     ]
    }
   ],
   "source": [
    "# Importing the Keras libraries and packages\n",
    "import keras\n",
    "from keras.models import Sequential\n",
    "from keras.layers import Dense"
   ]
  },
  {
   "cell_type": "code",
   "execution_count": 11,
   "metadata": {
    "collapsed": true
   },
   "outputs": [],
   "source": [
    "#Initializing Neural Network\n",
    "model = Sequential()"
   ]
  },
  {
   "cell_type": "code",
   "execution_count": 12,
   "metadata": {
    "collapsed": false
   },
   "outputs": [
    {
     "name": "stderr",
     "output_type": "stream",
     "text": [
      "/home/vagrant/anaconda/lib/python3.5/site-packages/ipykernel/__main__.py:2: UserWarning: Update your `Dense` call to the Keras 2 API: `Dense(units=6, kernel_initializer=\"uniform\", activation=\"relu\", input_dim=11)`\n",
      "  from ipykernel import kernelapp as app\n",
      "/home/vagrant/anaconda/lib/python3.5/site-packages/ipykernel/__main__.py:5: UserWarning: Update your `Dense` call to the Keras 2 API: `Dense(units=6, kernel_initializer=\"uniform\", activation=\"relu\")`\n",
      "/home/vagrant/anaconda/lib/python3.5/site-packages/ipykernel/__main__.py:8: UserWarning: Update your `Dense` call to the Keras 2 API: `Dense(units=1, kernel_initializer=\"uniform\", activation=\"sigmoid\")`\n"
     ]
    }
   ],
   "source": [
    "# Adding the input layer and the first hidden layer\n",
    "model.add(Dense(output_dim = 6, init = 'uniform', activation = 'relu', input_dim = 11))\n",
    "\n",
    "# Adding the second hidden layer\n",
    "model.add(Dense(output_dim = 6, init = 'uniform', activation = 'relu'))\n",
    "\n",
    "# Adding the output layer\n",
    "model.add(Dense(output_dim = 1, init = 'uniform', activation = 'sigmoid'))"
   ]
  },
  {
   "cell_type": "code",
   "execution_count": 13,
   "metadata": {
    "collapsed": true
   },
   "outputs": [],
   "source": [
    "# Compiling Neural Network\n",
    "model.compile(optimizer = 'adam', loss = 'binary_crossentropy', metrics = ['accuracy'])"
   ]
  },
  {
   "cell_type": "code",
   "execution_count": 14,
   "metadata": {
    "collapsed": false
   },
   "outputs": [
    {
     "name": "stderr",
     "output_type": "stream",
     "text": [
      "/home/vagrant/anaconda/lib/python3.5/site-packages/keras/models.py:844: UserWarning: The `nb_epoch` argument in `fit` has been renamed `epochs`.\n",
      "  warnings.warn('The `nb_epoch` argument in `fit` '\n"
     ]
    },
    {
     "name": "stdout",
     "output_type": "stream",
     "text": [
      "Epoch 1/100\n",
      "8000/8000 [==============================] - 0s - loss: 0.4758 - acc: 0.7975     \n",
      "Epoch 2/100\n",
      "8000/8000 [==============================] - 1s - loss: 0.4224 - acc: 0.7976     \n",
      "Epoch 3/100\n",
      "8000/8000 [==============================] - 1s - loss: 0.4155 - acc: 0.8101     \n",
      "Epoch 4/100\n",
      "8000/8000 [==============================] - 1s - loss: 0.4109 - acc: 0.8291     \n",
      "Epoch 5/100\n",
      "8000/8000 [==============================] - 1s - loss: 0.4086 - acc: 0.8347     \n",
      "Epoch 6/100\n",
      "8000/8000 [==============================] - 1s - loss: 0.4074 - acc: 0.8354     \n",
      "Epoch 7/100\n",
      "8000/8000 [==============================] - 1s - loss: 0.4055 - acc: 0.8367     \n",
      "Epoch 8/100\n",
      "8000/8000 [==============================] - 1s - loss: 0.4045 - acc: 0.8372     \n",
      "Epoch 9/100\n",
      "8000/8000 [==============================] - 1s - loss: 0.4031 - acc: 0.8384     \n",
      "Epoch 10/100\n",
      "8000/8000 [==============================] - 1s - loss: 0.4017 - acc: 0.8396     \n",
      "Epoch 11/100\n",
      "8000/8000 [==============================] - 1s - loss: 0.4016 - acc: 0.8394     \n",
      "Epoch 12/100\n",
      "8000/8000 [==============================] - 1s - loss: 0.4012 - acc: 0.8406     \n",
      "Epoch 13/100\n",
      "8000/8000 [==============================] - 1s - loss: 0.3999 - acc: 0.8391     \n",
      "Epoch 14/100\n",
      "8000/8000 [==============================] - 0s - loss: 0.3992 - acc: 0.8389     \n",
      "Epoch 15/100\n",
      "8000/8000 [==============================] - 1s - loss: 0.3993 - acc: 0.8401     \n",
      "Epoch 16/100\n",
      "8000/8000 [==============================] - 0s - loss: 0.3994 - acc: 0.8397     \n",
      "Epoch 17/100\n",
      "8000/8000 [==============================] - 0s - loss: 0.3985 - acc: 0.8412     \n",
      "Epoch 18/100\n",
      "8000/8000 [==============================] - 1s - loss: 0.3976 - acc: 0.8396     \n",
      "Epoch 19/100\n",
      "8000/8000 [==============================] - 1s - loss: 0.3985 - acc: 0.8406     \n",
      "Epoch 20/100\n",
      "8000/8000 [==============================] - 1s - loss: 0.3979 - acc: 0.8391     \n",
      "Epoch 21/100\n",
      "8000/8000 [==============================] - 1s - loss: 0.3963 - acc: 0.8390     \n",
      "Epoch 22/100\n",
      "8000/8000 [==============================] - 1s - loss: 0.3959 - acc: 0.8410     \n",
      "Epoch 23/100\n",
      "8000/8000 [==============================] - 1s - loss: 0.3950 - acc: 0.8404     \n",
      "Epoch 24/100\n",
      "8000/8000 [==============================] - 1s - loss: 0.3944 - acc: 0.8400     \n",
      "Epoch 25/100\n",
      "8000/8000 [==============================] - 1s - loss: 0.3935 - acc: 0.8384     \n",
      "Epoch 26/100\n",
      "8000/8000 [==============================] - 1s - loss: 0.3932 - acc: 0.8395     \n",
      "Epoch 27/100\n",
      "8000/8000 [==============================] - 1s - loss: 0.3924 - acc: 0.8411     \n",
      "Epoch 28/100\n",
      "8000/8000 [==============================] - 1s - loss: 0.3922 - acc: 0.8396     \n",
      "Epoch 29/100\n",
      "8000/8000 [==============================] - 1s - loss: 0.3924 - acc: 0.8410     \n",
      "Epoch 30/100\n",
      "8000/8000 [==============================] - 1s - loss: 0.3916 - acc: 0.8417     \n",
      "Epoch 31/100\n",
      "8000/8000 [==============================] - 1s - loss: 0.3910 - acc: 0.8391     \n",
      "Epoch 32/100\n",
      "8000/8000 [==============================] - 1s - loss: 0.3913 - acc: 0.8399     \n",
      "Epoch 33/100\n",
      "8000/8000 [==============================] - 1s - loss: 0.3905 - acc: 0.8400     \n",
      "Epoch 34/100\n",
      "8000/8000 [==============================] - 1s - loss: 0.3903 - acc: 0.8421     \n",
      "Epoch 35/100\n",
      "8000/8000 [==============================] - 1s - loss: 0.3896 - acc: 0.8409     \n",
      "Epoch 36/100\n",
      "8000/8000 [==============================] - 1s - loss: 0.3898 - acc: 0.8414     \n",
      "Epoch 37/100\n",
      "8000/8000 [==============================] - 1s - loss: 0.3893 - acc: 0.8419     \n",
      "Epoch 38/100\n",
      "8000/8000 [==============================] - 1s - loss: 0.3892 - acc: 0.8417     \n",
      "Epoch 39/100\n",
      "8000/8000 [==============================] - 0s - loss: 0.3889 - acc: 0.8420     \n",
      "Epoch 40/100\n",
      "8000/8000 [==============================] - 1s - loss: 0.3889 - acc: 0.8407     \n",
      "Epoch 41/100\n",
      "8000/8000 [==============================] - 1s - loss: 0.3887 - acc: 0.8401     \n",
      "Epoch 42/100\n",
      "8000/8000 [==============================] - 1s - loss: 0.3879 - acc: 0.8414     \n",
      "Epoch 43/100\n",
      "8000/8000 [==============================] - 1s - loss: 0.3885 - acc: 0.8401     \n",
      "Epoch 44/100\n",
      "8000/8000 [==============================] - 1s - loss: 0.3876 - acc: 0.8426     \n",
      "Epoch 45/100\n",
      "8000/8000 [==============================] - 1s - loss: 0.3877 - acc: 0.8430     \n",
      "Epoch 46/100\n",
      "8000/8000 [==============================] - 0s - loss: 0.3881 - acc: 0.8405     \n",
      "Epoch 47/100\n",
      "8000/8000 [==============================] - 1s - loss: 0.3876 - acc: 0.8415     \n",
      "Epoch 48/100\n",
      "8000/8000 [==============================] - 1s - loss: 0.3871 - acc: 0.8436     \n",
      "Epoch 49/100\n",
      "8000/8000 [==============================] - 0s - loss: 0.3877 - acc: 0.8425     \n",
      "Epoch 50/100\n",
      "8000/8000 [==============================] - 1s - loss: 0.3874 - acc: 0.8414     \n",
      "Epoch 51/100\n",
      "8000/8000 [==============================] - 1s - loss: 0.3874 - acc: 0.8421     \n",
      "Epoch 52/100\n",
      "8000/8000 [==============================] - 1s - loss: 0.3873 - acc: 0.8426     \n",
      "Epoch 53/100\n",
      "8000/8000 [==============================] - 1s - loss: 0.3871 - acc: 0.8414     \n",
      "Epoch 54/100\n",
      "8000/8000 [==============================] - 1s - loss: 0.3875 - acc: 0.8415     \n",
      "Epoch 55/100\n",
      "8000/8000 [==============================] - 1s - loss: 0.3875 - acc: 0.8424     \n",
      "Epoch 56/100\n",
      "8000/8000 [==============================] - 1s - loss: 0.3876 - acc: 0.8406     \n",
      "Epoch 57/100\n",
      "8000/8000 [==============================] - 1s - loss: 0.3870 - acc: 0.8431     \n",
      "Epoch 58/100\n",
      "8000/8000 [==============================] - 1s - loss: 0.3871 - acc: 0.8434     \n",
      "Epoch 59/100\n",
      "8000/8000 [==============================] - 1s - loss: 0.3865 - acc: 0.8420     \n",
      "Epoch 60/100\n",
      "8000/8000 [==============================] - 1s - loss: 0.3866 - acc: 0.8419     \n",
      "Epoch 61/100\n",
      "8000/8000 [==============================] - 1s - loss: 0.3869 - acc: 0.8431     \n",
      "Epoch 62/100\n",
      "8000/8000 [==============================] - 1s - loss: 0.3867 - acc: 0.8414     \n",
      "Epoch 63/100\n",
      "8000/8000 [==============================] - 1s - loss: 0.3869 - acc: 0.8415     \n",
      "Epoch 64/100\n",
      "8000/8000 [==============================] - 1s - loss: 0.3864 - acc: 0.8404     \n",
      "Epoch 65/100\n",
      "8000/8000 [==============================] - 1s - loss: 0.3865 - acc: 0.8436     \n",
      "Epoch 66/100\n",
      "8000/8000 [==============================] - 1s - loss: 0.3872 - acc: 0.8416     \n",
      "Epoch 67/100\n",
      "8000/8000 [==============================] - 1s - loss: 0.3872 - acc: 0.8416     \n",
      "Epoch 68/100\n",
      "8000/8000 [==============================] - 1s - loss: 0.3866 - acc: 0.8412     \n",
      "Epoch 69/100\n",
      "8000/8000 [==============================] - 1s - loss: 0.3866 - acc: 0.8409     \n",
      "Epoch 70/100\n",
      "8000/8000 [==============================] - 1s - loss: 0.3866 - acc: 0.8410     \n",
      "Epoch 71/100\n",
      "8000/8000 [==============================] - 1s - loss: 0.3870 - acc: 0.8434     \n",
      "Epoch 72/100\n",
      "8000/8000 [==============================] - 1s - loss: 0.3867 - acc: 0.8421     \n",
      "Epoch 73/100\n",
      "8000/8000 [==============================] - 1s - loss: 0.3864 - acc: 0.8417     \n",
      "Epoch 74/100\n",
      "8000/8000 [==============================] - 1s - loss: 0.3863 - acc: 0.8420     \n",
      "Epoch 75/100\n",
      "8000/8000 [==============================] - 1s - loss: 0.3864 - acc: 0.8427     \n",
      "Epoch 76/100\n",
      "8000/8000 [==============================] - 1s - loss: 0.3861 - acc: 0.8435     \n",
      "Epoch 77/100\n",
      "8000/8000 [==============================] - 1s - loss: 0.3866 - acc: 0.8419     \n",
      "Epoch 78/100\n",
      "8000/8000 [==============================] - 1s - loss: 0.3862 - acc: 0.8422     \n",
      "Epoch 79/100\n",
      "8000/8000 [==============================] - 1s - loss: 0.3856 - acc: 0.8417     \n",
      "Epoch 80/100\n",
      "8000/8000 [==============================] - 1s - loss: 0.3856 - acc: 0.8425     \n",
      "Epoch 81/100\n",
      "8000/8000 [==============================] - 1s - loss: 0.3859 - acc: 0.8426     \n",
      "Epoch 82/100\n",
      "8000/8000 [==============================] - 1s - loss: 0.3863 - acc: 0.8411     \n",
      "Epoch 83/100\n",
      "8000/8000 [==============================] - 1s - loss: 0.3860 - acc: 0.8422     \n",
      "Epoch 84/100\n",
      "8000/8000 [==============================] - 1s - loss: 0.3862 - acc: 0.8419     \n",
      "Epoch 85/100\n",
      "8000/8000 [==============================] - 1s - loss: 0.3862 - acc: 0.8417     \n",
      "Epoch 86/100\n",
      "8000/8000 [==============================] - 1s - loss: 0.3853 - acc: 0.8440     \n",
      "Epoch 87/100\n",
      "8000/8000 [==============================] - 1s - loss: 0.3863 - acc: 0.8407     \n",
      "Epoch 88/100\n",
      "8000/8000 [==============================] - 1s - loss: 0.3856 - acc: 0.8421     \n",
      "Epoch 89/100\n",
      "8000/8000 [==============================] - 1s - loss: 0.3860 - acc: 0.8417     \n",
      "Epoch 90/100\n",
      "8000/8000 [==============================] - 1s - loss: 0.3860 - acc: 0.8425     \n",
      "Epoch 91/100\n",
      "8000/8000 [==============================] - 1s - loss: 0.3854 - acc: 0.8411     \n",
      "Epoch 92/100\n",
      "8000/8000 [==============================] - 1s - loss: 0.3856 - acc: 0.8399     \n",
      "Epoch 93/100\n",
      "8000/8000 [==============================] - 1s - loss: 0.3856 - acc: 0.8404     \n",
      "Epoch 94/100\n",
      "8000/8000 [==============================] - 1s - loss: 0.3862 - acc: 0.8425     \n",
      "Epoch 95/100\n",
      "8000/8000 [==============================] - 1s - loss: 0.3856 - acc: 0.8409     \n",
      "Epoch 96/100\n",
      "8000/8000 [==============================] - 1s - loss: 0.3859 - acc: 0.8419     \n",
      "Epoch 97/100\n",
      "8000/8000 [==============================] - 1s - loss: 0.3858 - acc: 0.8406     \n",
      "Epoch 98/100\n",
      "8000/8000 [==============================] - 1s - loss: 0.3850 - acc: 0.8425     \n",
      "Epoch 99/100\n",
      "8000/8000 [==============================] - 1s - loss: 0.3854 - acc: 0.8431     \n",
      "Epoch 100/100\n",
      "8000/8000 [==============================] - 1s - loss: 0.3856 - acc: 0.8422     \n"
     ]
    },
    {
     "data": {
      "text/plain": [
       "<keras.callbacks.History at 0x7fa4ea9bd400>"
      ]
     },
     "execution_count": 14,
     "metadata": {},
     "output_type": "execute_result"
    }
   ],
   "source": [
    "# Fitting our model \n",
    "model.fit(X_train, y_train, batch_size = 10, nb_epoch = 100)"
   ]
  },
  {
   "cell_type": "code",
   "execution_count": 27,
   "metadata": {
    "collapsed": true
   },
   "outputs": [],
   "source": [
    "# Predicting the Test set results\n",
    "y_pred = model.predict(X_test)\n",
    "y_pred = (y_pred > 0.5)"
   ]
  },
  {
   "cell_type": "code",
   "execution_count": 28,
   "metadata": {
    "collapsed": false
   },
   "outputs": [
    {
     "name": "stdout",
     "output_type": "stream",
     "text": [
      "Test loss: 0.419786980867\n",
      "Test accuracy: 0.8245\n"
     ]
    }
   ],
   "source": [
    "score = model.evaluate(X_test,y_test, verbose=0)\n",
    "print('Test loss:', score[0])\n",
    "print('Test accuracy:', score[1])"
   ]
  },
  {
   "cell_type": "code",
   "execution_count": 29,
   "metadata": {
    "collapsed": true
   },
   "outputs": [],
   "source": [
    "# Creating the Confusion Matrix\n",
    "from sklearn.metrics import confusion_matrix\n",
    "cm = confusion_matrix(y_test, y_pred)"
   ]
  },
  {
   "cell_type": "code",
   "execution_count": 30,
   "metadata": {
    "collapsed": false
   },
   "outputs": [
    {
     "name": "stdout",
     "output_type": "stream",
     "text": [
      "[[1524   58]\n",
      " [ 293  125]]\n"
     ]
    }
   ],
   "source": [
    "print(cm)"
   ]
  },
  {
   "cell_type": "markdown",
   "metadata": {},
   "source": [
    "Reference: https://medium.com/@pushkarmandot/build-your-first-deep-learning-neural-network-model-using-keras-in-python-a90b5864116d"
   ]
  },
  {
   "cell_type": "code",
   "execution_count": null,
   "metadata": {
    "collapsed": true
   },
   "outputs": [],
   "source": []
  }
 ],
 "metadata": {
  "anaconda-cloud": {},
  "kernelspec": {
   "display_name": "Python 3",
   "language": "python",
   "name": "python3"
  },
  "language_info": {
   "codemirror_mode": {
    "name": "ipython",
    "version": 3
   },
   "file_extension": ".py",
   "mimetype": "text/x-python",
   "name": "python",
   "nbconvert_exporter": "python",
   "pygments_lexer": "ipython3",
   "version": "3.5.4"
  }
 },
 "nbformat": 4,
 "nbformat_minor": 1
}
