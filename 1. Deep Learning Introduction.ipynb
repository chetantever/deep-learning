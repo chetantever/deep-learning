{
 "cells": [
  {
   "cell_type": "markdown",
   "metadata": {},
   "source": [
    "## Introduction"
   ]
  },
  {
   "cell_type": "markdown",
   "metadata": {},
   "source": [
    "Deep Learning is one of the machine learning technique that learns features directly from data. When the amount of data is increased, machine learning techniques are insufficient in terms of performance and deep learning gives better performance."
   ]
  },
  {
   "cell_type": "markdown",
   "metadata": {},
   "source": [
    "<img src=\"figure1.png\" width=\"400\" height=\"200\">"
   ]
  },
  {
   "cell_type": "markdown",
   "metadata": {},
   "source": [
    "### What is Keras ?"
   ]
  },
  {
   "cell_type": "markdown",
   "metadata": {},
   "source": [
    "- Neural Network library written in Python.\n",
    "- Designed to be minimalistic & straight forward yet extensive.\n",
    "- Built on top of Theano/Tensorflow.\n",
    "- Simple to start and highly modular, easy to expand."
   ]
  },
  {
   "cell_type": "markdown",
   "metadata": {},
   "source": [
    "### Activations"
   ]
  },
  {
   "cell_type": "markdown",
   "metadata": {},
   "source": [
    "- Sigmoid, tanh, ReLU, softplus, hard_sigmoid, linear\n",
    "- Advanced activations are implemented as layer\n",
    "- Advanced activations: LeakyReLU, PReLU, ELU, Parametric Softplus, Threadsholded linear & Threashold ReLU."
   ]
  },
  {
   "cell_type": "markdown",
   "metadata": {},
   "source": [
    "### Types of Layers"
   ]
  },
  {
   "cell_type": "markdown",
   "metadata": {},
   "source": [
    "- Dropout\n",
    "- Noise\n",
    "- Pooling\n",
    "- Normalization\n",
    "- Embedding"
   ]
  },
  {
   "cell_type": "markdown",
   "metadata": {},
   "source": [
    "### Objectives Functions"
   ]
  },
  {
   "cell_type": "markdown",
   "metadata": {},
   "source": [
    "- Error loss: rmse, mse, mae, mape, msle\n",
    "- Hinge loss: squared_hinge, hinge\n",
    "- Class loss: binary_crossentropy, categorical_crossentropy"
   ]
  },
  {
   "cell_type": "markdown",
   "metadata": {},
   "source": [
    "### Optimization"
   ]
  },
  {
   "cell_type": "markdown",
   "metadata": {},
   "source": [
    "- Provides SGD, Adagrad, Adadelta, Rmsprop & Adam.\n",
    "- All optimizers can be customized via parameters."
   ]
  },
  {
   "cell_type": "markdown",
   "metadata": {},
   "source": [
    "### Architecture/Weight Saving & Loading "
   ]
  },
  {
   "cell_type": "markdown",
   "metadata": {},
   "source": [
    "Model architectures can be saved & loaded"
   ]
  },
  {
   "cell_type": "raw",
   "metadata": {},
   "source": [
    "#save as JSON\n",
    "json_string = model.to_json()\n",
    "\n",
    "#save as YAML\n",
    "yaml_string = model.to_yaml()\n",
    "\n",
    "#model reconstruction from JSON\n",
    "from keras.models import model_from_json\n",
    "model = model_from_json(yaml_string)"
   ]
  },
  {
   "cell_type": "markdown",
   "metadata": {},
   "source": [
    "Model parameters (weights) can be saved and loaded"
   ]
  },
  {
   "cell_type": "raw",
   "metadata": {},
   "source": [
    "model.save_weights('my_model_weights.h5')\n",
    "model.load_weights('my_model_weights.h5')"
   ]
  },
  {
   "cell_type": "markdown",
   "metadata": {},
   "source": [
    "### Callbacks "
   ]
  },
  {
   "cell_type": "markdown",
   "metadata": {},
   "source": [
    "- Callbacks can be called at different points of training (batch or epoch).\n",
    "- Existing callbacks: Early stopping, weight saving after epoch.\n",
    "- Easy to build and implement, called in training function, fit()"
   ]
  },
  {
   "cell_type": "markdown",
   "metadata": {},
   "source": [
    "### Keras Layers "
   ]
  },
  {
   "cell_type": "markdown",
   "metadata": {},
   "source": [
    "Regular dense (MLP type)"
   ]
  },
  {
   "cell_type": "raw",
   "metadata": {},
   "source": [
    "keras.layers.core.Dense(output_dim,\n",
    "                        init='glorot_uniform',\n",
    "                        activation='linear',\n",
    "                        weights=None,\n",
    "                        W_regularlizer=None, b_regularizer=None, activity_regularlizer=None,\n",
    "                        W_constraint=None, b_constraint=None,\n",
    "                        input_dim=None)"
   ]
  },
  {
   "cell_type": "markdown",
   "metadata": {},
   "source": [
    "Recurrent layers (LSTM, GRU)"
   ]
  },
  {
   "cell_type": "raw",
   "metadata": {},
   "source": [
    "keras.layers.recurrent.GRU(output_dim,\n",
    "                            init='glorot_uniform', inner_init='orthogonal',\n",
    "                            activation='sigmoid', inner_activation='hard_sigmoid',\n",
    "                            return_sequences=False,\n",
    "                            go_backwards=False,\n",
    "                            stateful=False,\n",
    "                            input_dim=None, input_length=None)"
   ]
  },
  {
   "cell_type": "markdown",
   "metadata": {},
   "source": [
    "1D Convolutional Layers"
   ]
  },
  {
   "cell_type": "raw",
   "metadata": {},
   "source": [
    "keras.layers.convolutional.Convolution1D(nb_filter, filter_length,\n",
    "                                         init='uniform',\n",
    "                                         activation='linear',\n",
    "                                         weights=None,\n",
    "                                         border_mode='valid',\n",
    "                                         subsample_length=1,\n",
    "                                         W_regularizer=None, b_regularizer=None,\n",
    "                                         W_constraint=None, b_constraint=None,\n",
    "                                         input_dim=None, input_length=None)"
   ]
  },
  {
   "cell_type": "markdown",
   "metadata": {},
   "source": [
    "2D Convolutional Layers"
   ]
  },
  {
   "cell_type": "raw",
   "metadata": {},
   "source": [
    "keras.layers.convolutional.Convolution2D(nb_filter, nb_row, nb_col,\n",
    "                                         init='glorot_uniform',\n",
    "                                         activation='linear',\n",
    "                                         weights=None,\n",
    "                                         border_mode='valid',\n",
    "                                         subsample=(1,1),\n",
    "                                         W_regularizer=None, b_regularizer=None,\n",
    "                                         W_constraint=None,\n",
    "                                         dim_ordering='th')"
   ]
  },
  {
   "cell_type": "markdown",
   "metadata": {},
   "source": [
    "Autoencoders"
   ]
  },
  {
   "cell_type": "raw",
   "metadata": {},
   "source": [
    "from keras.layers import containers\n",
    "\n",
    "#input shape:\n",
    "encoder = containers.Sequential([Dense(16, input_dim=32),Dense(8)])\n",
    "decoder = containers.Sequential([Dense(16, input_dim=8),Dense(32)])\n",
    "\n",
    "autoencoder = Sequential()\n",
    "autoencoder.add(AutoEncoder(encoder=encoder, decoder=decoder, output_reconstruction=False))"
   ]
  },
  {
   "cell_type": "markdown",
   "metadata": {},
   "source": [
    "### Pros & Cons "
   ]
  },
  {
   "cell_type": "markdown",
   "metadata": {},
   "source": [
    "Pros:\n",
    "- Easy to implement\n",
    "- Lots of choice\n",
    "- Extendible and customizable\n",
    "- GPU\n",
    "- High level\n",
    "- Active community\n",
    "- Keras.io\n",
    "\n",
    "Cons:\n",
    "- Lack of generative models\n",
    "- High level\n",
    "- Theano overhead"
   ]
  },
  {
   "cell_type": "markdown",
   "metadata": {
    "collapsed": true
   },
   "source": [
    "### Losses Functions "
   ]
  },
  {
   "cell_type": "markdown",
   "metadata": {},
   "source": [
    "Accuracy: Used for classification problems.\n",
    "- binary_accuracy: predictions for binary classification problems.\n",
    "- categorical_accuracy: predictions for multiclass classification.\n",
    "- top_k_categorical_accuracy: target class is within the top_k predictions provided."
   ]
  },
  {
   "cell_type": "markdown",
   "metadata": {},
   "source": [
    "Error loss: difference between the values predicted & the values actually observed.\n",
    "- mse: mean square error between predicted & target values.\n",
    "- rmse: root square error between predicted & target values.\n",
    "- mae: mean absolute error between predicted & target values.\n",
    "- mape: mean percentage error between predicted & target values.\n",
    "- msle: mean squared logarithnic error between predicted & target values."
   ]
  },
  {
   "cell_type": "markdown",
   "metadata": {},
   "source": [
    "Hinge loss: used for training classifiers. Hinge defined as max(1-y true * y pred,0) and squared hinge defined as the squaed value of the hinge loss."
   ]
  },
  {
   "cell_type": "markdown",
   "metadata": {},
   "source": [
    "Class loss: used to calculate the cross entropy for classification problems. There are multiple versions, including binary cross-entropy and categorical cross-entropy."
   ]
  },
  {
   "cell_type": "code",
   "execution_count": null,
   "metadata": {
    "collapsed": true
   },
   "outputs": [],
   "source": []
  }
 ],
 "metadata": {
  "anaconda-cloud": {},
  "kernelspec": {
   "display_name": "Python 3",
   "language": "python",
   "name": "python3"
  },
  "language_info": {
   "codemirror_mode": {
    "name": "ipython",
    "version": 3
   },
   "file_extension": ".py",
   "mimetype": "text/x-python",
   "name": "python",
   "nbconvert_exporter": "python",
   "pygments_lexer": "ipython3",
   "version": "3.5.4"
  }
 },
 "nbformat": 4,
 "nbformat_minor": 1
}
